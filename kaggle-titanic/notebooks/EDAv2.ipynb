{
 "cells": [
  {
   "cell_type": "code",
   "execution_count": 1,
   "metadata": {},
   "outputs": [],
   "source": [
    "import numpy as np\n",
    "import pandas as pd"
   ]
  },
  {
   "attachments": {},
   "cell_type": "markdown",
   "metadata": {},
   "source": [
    "### get data"
   ]
  },
  {
   "cell_type": "code",
   "execution_count": 2,
   "metadata": {},
   "outputs": [
    {
     "name": "stdout",
     "output_type": "stream",
     "text": [
      "   PassengerId  Pclass                                          Name     Sex  \\\n",
      "0          892       3                              Kelly, Mr. James    male   \n",
      "1          893       3              Wilkes, Mrs. James (Ellen Needs)  female   \n",
      "2          894       2                     Myles, Mr. Thomas Francis    male   \n",
      "3          895       3                              Wirz, Mr. Albert    male   \n",
      "4          896       3  Hirvonen, Mrs. Alexander (Helga E Lindqvist)  female   \n",
      "\n",
      "    Age  SibSp  Parch   Ticket     Fare Cabin Embarked  \n",
      "0  34.5      0      0   330911   7.8292   NaN        Q  \n",
      "1  47.0      1      0   363272   7.0000   NaN        S  \n",
      "2  62.0      0      0   240276   9.6875   NaN        Q  \n",
      "3  27.0      0      0   315154   8.6625   NaN        S  \n",
      "4  22.0      1      1  3101298  12.2875   NaN        S  \n"
     ]
    }
   ],
   "source": [
    "train_data = pd.read_csv('../data/train.csv')\n",
    "X_test = pd.read_csv('../data/test.csv')\n",
    "print(X_test.head())\n",
    "\n",
    "# train data\n",
    "y = train_data[\"Survived\"]\n",
    "X = train_data.drop(\"Survived\", axis=1)\n",
    "\n",
    "datasets = [X,X_test]"
   ]
  },
  {
   "attachments": {},
   "cell_type": "markdown",
   "metadata": {},
   "source": [
    "#### preprocessing data ####"
   ]
  },
  {
   "cell_type": "code",
   "execution_count": 3,
   "metadata": {},
   "outputs": [],
   "source": [
    "for df in datasets:\n",
    "    df.set_index(\"PassengerId\", inplace=True)\n",
    "    # ticket is useless and cabin has too many missing values \n",
    "    df.drop([\"Ticket\", \"Cabin\"], axis=1, inplace=True)\n",
    "    \n",
    "    #encoding\n",
    "    sex_encoder = {'male':0, 'female':1}\n",
    "    df['Sex'] = df['Sex'].map(sex_encoder).astype(int)\n",
    "    \n",
    "    embarked_encoder = {'S': 1, 'C':'2', 'Q':3}\n",
    "    df[\"Embarked\"] = (df[\"Embarked\"]\n",
    "        .map(embarked_encoder)\n",
    "        .fillna(2)\n",
    "        .astype(int)\n",
    "    )\n",
    "    \n",
    "    # handle missing values\n",
    "    df['Age'].fillna(df['Age'].mean(), inplace=True)\n",
    "    df['Fare'].fillna(df['Fare'].median(), inplace=True)"
   ]
  },
  {
   "attachments": {},
   "cell_type": "markdown",
   "metadata": {},
   "source": [
    "#### data engineering ####"
   ]
  },
  {
   "cell_type": "code",
   "execution_count": 4,
   "metadata": {},
   "outputs": [],
   "source": [
    "# extract title from the name\n",
    "for df in datasets:\n",
    "    rare_titles = ['Lady', 'Countess','Capt', 'Col','Don', 'Dr', 'Major', 'Rev', 'Sir', 'Jonkheer', 'Dona']\n",
    "    title_encoder = {\"Mr\": 1, \"Miss\": 2, \"Mrs\": 3, \"Master\": 4, \"Rare\": 5}\n",
    "    \n",
    "    df['Title'] = (df['Name'].str.extract(r' ([A-Za-z]+)\\.', expand=False)\n",
    "        .replace(rare_titles, 'rare')\n",
    "        .replace('Mlle', 'Miss')\n",
    "        .replace('Mlle', 'Miss')\n",
    "        .replace('Mlle', 'Miss')\n",
    "        .map(title_encoder)\n",
    "        .fillna(0)\n",
    "        .astype(int)\n",
    "    )\n",
    "    \n",
    "    df.drop('Name', axis=1, inplace=True)    "
   ]
  },
  {
   "cell_type": "code",
   "execution_count": 5,
   "metadata": {},
   "outputs": [],
   "source": [
    "# discretize age\n",
    "\n",
    "# df.loc[row_condition, column_label]    \n",
    "\n",
    "for df in datasets:\n",
    "    df.loc[ df['Age'] <= 16, 'Age'] = 0\n",
    "    df.loc[(df['Age'] > 16) & (df['Age'] <= 32), 'Age'] = 1\n",
    "    df.loc[(df['Age'] > 32) & (df['Age'] <= 48), 'Age'] = 2\n",
    "    df.loc[(df['Age'] > 48) & (df['Age'] <= 64), 'Age'] = 3\n",
    "    df.loc[ df['Age'] > 64, 'Age'] = 4\n",
    "    \n",
    "    df['Age'] = df['Age'].astype(int)"
   ]
  },
  {
   "cell_type": "code",
   "execution_count": 6,
   "metadata": {},
   "outputs": [],
   "source": [
    "# Family Size\n",
    "# Single people and large peoples (>4) have less chances to survive\n",
    "\n",
    "for df in datasets:\n",
    "    df['FamilySize'] = df['SibSp'] + df['Parch'] + 1\n",
    "    \n",
    "    df['IsSingle'] = 0\n",
    "    df.loc[df['FamilySize'] == 1, 'IsSingle'] = 1\n",
    "    \n",
    "    df.drop(['FamilySize', 'SibSp', 'Parch'], axis=1, inplace=True)\n",
    "    \n"
   ]
  },
  {
   "cell_type": "code",
   "execution_count": 7,
   "metadata": {},
   "outputs": [],
   "source": [
    "# discretize Fare\n",
    "\n",
    "for dataset in datasets:\n",
    "    dataset.loc[ dataset['Fare'] <= 7.91, 'Fare'] = 0\n",
    "    dataset.loc[(dataset['Fare'] > 7.91) & (dataset['Fare'] <= 14.454), 'Fare'] = 1\n",
    "    dataset.loc[(dataset['Fare'] > 14.454) & (dataset['Fare'] <= 31), 'Fare']   = 2\n",
    "    dataset.loc[ dataset['Fare'] > 31, 'Fare'] = 3\n",
    "    dataset['Fare'] = dataset['Fare'].astype(int)"
   ]
  },
  {
   "cell_type": "code",
   "execution_count": 8,
   "metadata": {},
   "outputs": [
    {
     "name": "stdout",
     "output_type": "stream",
     "text": [
      "             Pclass  Sex  Age  Fare  Embarked  Title  IsSingle\n",
      "PassengerId                                                   \n",
      "1                 3    0    1     0         1      1         0\n",
      "2                 1    1    2     3         2      3         0\n",
      "3                 3    1    1     1         1      2         1\n",
      "4                 1    1    2     3         1      3         0\n",
      "5                 3    0    2     1         1      1         1\n"
     ]
    }
   ],
   "source": [
    "print(datasets[0].head())\n",
    "datasets[0]['Age'].to_csv('../data/X.csv')"
   ]
  },
  {
   "cell_type": "code",
   "execution_count": 9,
   "metadata": {},
   "outputs": [
    {
     "name": "stdout",
     "output_type": "stream",
     "text": [
      "             Pclass  Sex  Age  Fare  Embarked  Title  IsSingle\n",
      "PassengerId                                                   \n",
      "892               3    0    2     0         3      1         1\n",
      "893               3    1    2     0         1      3         0\n",
      "894               2    0    3     1         3      1         1\n",
      "895               3    0    1     1         1      1         1\n",
      "896               3    1    1     1         1      3         0\n"
     ]
    }
   ],
   "source": [
    "X = datasets[0]\n",
    "X_test = datasets[1]\n",
    "print(X_test.head())"
   ]
  },
  {
   "attachments": {},
   "cell_type": "markdown",
   "metadata": {},
   "source": [
    "### model and prediction"
   ]
  },
  {
   "cell_type": "code",
   "execution_count": 10,
   "metadata": {},
   "outputs": [
    {
     "name": "stderr",
     "output_type": "stream",
     "text": [
      "/usr/lib/python3/dist-packages/scipy/__init__.py:146: UserWarning: A NumPy version >=1.17.3 and <1.25.0 is required for this version of SciPy (detected version 1.26.3\n",
      "  warnings.warn(f\"A NumPy version >={np_minversion} and <{np_maxversion}\"\n"
     ]
    }
   ],
   "source": [
    "from sklearn.ensemble import RandomForestClassifier\n",
    "\n",
    "model = RandomForestClassifier(n_estimators=100)\n",
    "model.fit(X,y)\n",
    "pred = model.predict(X_test)\n",
    "\n",
    "# save prediction\n",
    "pred_df = pd.DataFrame(pred, index=X_test.index, columns=[\"Survived\"])\n",
    "pred_df.to_csv(\"../predictions/randomForest4.csv\")"
   ]
  }
 ],
 "metadata": {
  "kernelspec": {
   "display_name": "Python 3",
   "language": "python",
   "name": "python3"
  },
  "language_info": {
   "codemirror_mode": {
    "name": "ipython",
    "version": 3
   },
   "file_extension": ".py",
   "mimetype": "text/x-python",
   "name": "python",
   "nbconvert_exporter": "python",
   "pygments_lexer": "ipython3",
   "version": "3.10.12"
  },
  "orig_nbformat": 4
 },
 "nbformat": 4,
 "nbformat_minor": 2
}
