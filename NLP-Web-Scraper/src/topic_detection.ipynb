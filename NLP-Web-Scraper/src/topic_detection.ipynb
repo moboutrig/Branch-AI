{
 "cells": [
  {
   "cell_type": "code",
   "execution_count": 1,
   "metadata": {},
   "outputs": [],
   "source": [
    "import pandas as pd\n",
    "import numpy as np\n"
   ]
  },
  {
   "attachments": {},
   "cell_type": "markdown",
   "metadata": {},
   "source": [
    "load the data"
   ]
  },
  {
   "cell_type": "code",
   "execution_count": 2,
   "metadata": {},
   "outputs": [
    {
     "name": "stdout",
     "output_type": "stream",
     "text": [
      "   ArticleId                                               Text  Category\n",
      "0       1018  qpr keeper day heads for preston queens park r...     sport\n",
      "1       1319  software watching while you work software that...      tech\n",
      "2       1138  d arcy injury adds to ireland woe gordon d arc...     sport\n",
      "3        459  india s reliance family feud heats up the ongo...  business\n",
      "4       1020  boro suffer morrison injury blow middlesbrough...     sport\n"
     ]
    }
   ],
   "source": [
    "train_data = pd.read_csv('../data/BBC News Train.csv')\n",
    "test_data = pd.read_csv('../data/BBC News Test.csv')\n",
    "datasets = [train_data, test_data]\n",
    "print(test_data.head())"
   ]
  },
  {
   "cell_type": "code",
   "execution_count": 3,
   "metadata": {},
   "outputs": [
    {
     "name": "stdout",
     "output_type": "stream",
     "text": [
      "ArticleId  Text   Category\n",
      "False      False  False       1490\n",
      "Name: count, dtype: int64\n",
      "ArticleId  Text   Category\n",
      "False      False  False       735\n",
      "Name: count, dtype: int64\n"
     ]
    }
   ],
   "source": [
    "# check for missing values : \n",
    "for df in datasets:\n",
    "    print(df.isna().value_counts())"
   ]
  },
  {
   "attachments": {},
   "cell_type": "markdown",
   "metadata": {},
   "source": [
    "preprocessing"
   ]
  },
  {
   "cell_type": "code",
   "execution_count": 4,
   "metadata": {},
   "outputs": [],
   "source": [
    "for df in datasets:\n",
    "    df.set_index('ArticleId', inplace=True)\n",
    "    \n",
    "    # topic encoding:\n",
    "    # Tech, Sport, Business, Entertainment or Politics\n",
    "    topic_encoder = {'tech':1, 'sport':2, 'business':3, 'entertainment':4, 'politics':5}\n",
    "    df['Category'] = df['Category'].map(topic_encoder).astype(int)"
   ]
  },
  {
   "attachments": {},
   "cell_type": "markdown",
   "metadata": {},
   "source": [
    "X = TFI-DF vectorization of the article. \n",
    "y = 'Category' column"
   ]
  },
  {
   "cell_type": "code",
   "execution_count": 5,
   "metadata": {},
   "outputs": [
    {
     "name": "stderr",
     "output_type": "stream",
     "text": [
      "/usr/lib/python3/dist-packages/scipy/__init__.py:146: UserWarning: A NumPy version >=1.17.3 and <1.25.0 is required for this version of SciPy (detected version 1.26.3\n",
      "  warnings.warn(f\"A NumPy version >={np_minversion} and <{np_maxversion}\"\n"
     ]
    },
    {
     "name": "stdout",
     "output_type": "stream",
     "text": [
      "ArticleId\n",
      "1833    worldcom ex-boss launches defence lawyers defe...\n",
      "154     german business confidence slides german busin...\n",
      "1101    bbc poll indicates economic gloom citizens in ...\n",
      "1976    lifestyle  governs mobile choice  faster  bett...\n",
      "917     enron bosses in $168m payout eighteen former e...\n",
      "                              ...                        \n",
      "857     double eviction from big brother model caprice...\n",
      "325     dj double act revamp chart show dj duo jk and ...\n",
      "1590    weak dollar hits reuters revenues at media gro...\n",
      "1587    apple ipod family expands market apple has exp...\n",
      "538     santy worm makes unwelcome visit thousands of ...\n",
      "Name: Text, Length: 1490, dtype: object\n"
     ]
    }
   ],
   "source": [
    "from sklearn.feature_extraction.text import TfidfVectorizer\n",
    "\n",
    "train_data = datasets[0]\n",
    "test_data = datasets[1]\n",
    "\n",
    "tfidf_vectorizer = TfidfVectorizer(max_features=1000)\n",
    "print(train_data['Text'])\n",
    "X = tfidf_vectorizer.fit_transform(train_data['Text'])\n",
    "y = train_data['Category']\n",
    "\n",
    "X_test = tfidf_vectorizer.transform(test_data['Text'])\n",
    "y_test = test_data['Category']"
   ]
  },
  {
   "cell_type": "code",
   "execution_count": 6,
   "metadata": {},
   "outputs": [
    {
     "name": "stdout",
     "output_type": "stream",
     "text": [
      "[2 1 2 3 2 2 5 5 4 3]\n"
     ]
    }
   ],
   "source": [
    "from sklearn.svm import SVC\n",
    "\n",
    "model = SVC(kernel='linear')\n",
    "model.fit(X,y)\n",
    "\n",
    "test_pred = model.predict(X_test)\n",
    "\n",
    "print(test_pred[:10])"
   ]
  },
  {
   "attachments": {},
   "cell_type": "markdown",
   "metadata": {},
   "source": [
    "Learning Curve\n"
   ]
  },
  {
   "cell_type": "code",
   "execution_count": 7,
   "metadata": {},
   "outputs": [
    {
     "name": "stderr",
     "output_type": "stream",
     "text": [
      "/usr/lib/python3/dist-packages/scipy/__init__.py:146: UserWarning: A NumPy version >=1.17.3 and <1.25.0 is required for this version of SciPy (detected version 1.26.3\n",
      "  warnings.warn(f\"A NumPy version >={np_minversion} and <{np_maxversion}\"\n",
      "/usr/lib/python3/dist-packages/scipy/__init__.py:146: UserWarning: A NumPy version >=1.17.3 and <1.25.0 is required for this version of SciPy (detected version 1.26.3\n",
      "  warnings.warn(f\"A NumPy version >={np_minversion} and <{np_maxversion}\"\n"
     ]
    },
    {
     "ename": "AttributeError",
     "evalue": "module 'matplotlib' has no attribute 'show'",
     "output_type": "error",
     "traceback": [
      "\u001b[0;31m---------------------------------------------------------------------------\u001b[0m",
      "\u001b[0;31mAttributeError\u001b[0m                            Traceback (most recent call last)",
      "Cell \u001b[0;32mIn[7], line 17\u001b[0m\n\u001b[1;32m     15\u001b[0m disp\u001b[39m.\u001b[39max_\u001b[39m.\u001b[39mset_xlabel(\u001b[39mr\u001b[39m\u001b[39m\"\u001b[39m\u001b[39mgamma (inverse radius of the RBF kernel)\u001b[39m\u001b[39m\"\u001b[39m)\n\u001b[1;32m     16\u001b[0m disp\u001b[39m.\u001b[39max_\u001b[39m.\u001b[39mset_ylim(\u001b[39m0.0\u001b[39m, \u001b[39m1.1\u001b[39m)\n\u001b[0;32m---> 17\u001b[0m plt\u001b[39m.\u001b[39;49mshow()\n",
      "File \u001b[0;32m/usr/lib/python3/dist-packages/matplotlib/_api/__init__.py:222\u001b[0m, in \u001b[0;36mcaching_module_getattr.<locals>.__getattr__\u001b[0;34m(name)\u001b[0m\n\u001b[1;32m    220\u001b[0m \u001b[39mif\u001b[39;00m name \u001b[39min\u001b[39;00m props:\n\u001b[1;32m    221\u001b[0m     \u001b[39mreturn\u001b[39;00m props[name]\u001b[39m.\u001b[39m\u001b[39m__get__\u001b[39m(instance)\n\u001b[0;32m--> 222\u001b[0m \u001b[39mraise\u001b[39;00m \u001b[39mAttributeError\u001b[39;00m(\n\u001b[1;32m    223\u001b[0m     \u001b[39mf\u001b[39m\u001b[39m\"\u001b[39m\u001b[39mmodule \u001b[39m\u001b[39m{\u001b[39;00m\u001b[39mcls\u001b[39m\u001b[39m.\u001b[39m\u001b[39m__module__\u001b[39m\u001b[39m!r}\u001b[39;00m\u001b[39m has no attribute \u001b[39m\u001b[39m{\u001b[39;00mname\u001b[39m!r}\u001b[39;00m\u001b[39m\"\u001b[39m)\n",
      "\u001b[0;31mAttributeError\u001b[0m: module 'matplotlib' has no attribute 'show'"
     ]
    },
    {
     "data": {
      "image/png": "[encoded data removed]",
      "text/plain": [
       "<Figure size 640x480 with 1 Axes>"
      ]
     },
     "metadata": {},
     "output_type": "display_data"
    }
   ],
   "source": [
    "from sklearn.model_selection import ValidationCurveDisplay\n",
    "import matplotlib as plt\n",
    "\n",
    "disp = ValidationCurveDisplay.from_estimator(\n",
    "    SVC(),\n",
    "    X,\n",
    "    y,\n",
    "    param_name=\"gamma\",\n",
    "    param_range=np.logspace(-6, -1, 5),\n",
    "    score_type=\"both\",\n",
    "    n_jobs=2,\n",
    "    score_name=\"Accuracy\",\n",
    ")\n",
    "disp.ax_.set_title(\"Validation Curve for SVM with an RBF kernel\")\n",
    "disp.ax_.set_xlabel(r\"gamma (inverse radius of the RBF kernel)\")\n",
    "disp.ax_.set_ylim(0.0, 1.1)\n",
    "plt.show()"
   ]
  },
  {
   "attachments": {},
   "cell_type": "markdown",
   "metadata": {},
   "source": [
    "Evaluation"
   ]
  },
  {
   "cell_type": "code",
   "execution_count": null,
   "metadata": {},
   "outputs": [
    {
     "name": "stdout",
     "output_type": "stream",
     "text": [
      "accuracy on the test set : 97.41%\n"
     ]
    }
   ],
   "source": [
    "from sklearn.metrics import accuracy_score\n",
    "\n",
    "score = accuracy_score(y_test, test_pred)\n",
    "print(f'accuracy on the test set : {100 * score:.2f}%')"
   ]
  },
  {
   "attachments": {},
   "cell_type": "markdown",
   "metadata": {},
   "source": [
    "Save the model using Pickle"
   ]
  },
  {
   "cell_type": "code",
   "execution_count": null,
   "metadata": {},
   "outputs": [],
   "source": [
    "import pickle\n",
    "\n",
    "pickle.dump(model, open('../results/topic_classifier.pkl', 'wb'))\n",
    "\n",
    "#how to load and use the model :\n",
    "#pickled_model = pickle.load(open('model.pkl', 'rb'))\n",
    "#pickled_model.predict(X)\n"
   ]
  }
 ],
 "metadata": {
  "kernelspec": {
   "display_name": "Python 3",
   "language": "python",
   "name": "python3"
  },
  "language_info": {
   "codemirror_mode": {
    "name": "ipython",
    "version": 3
   },
   "file_extension": ".py",
   "mimetype": "text/x-python",
   "name": "python",
   "nbconvert_exporter": "python",
   "pygments_lexer": "ipython3",
   "version": "3.10.12"
  },
  "orig_nbformat": 4
 },
 "nbformat": 4,
 "nbformat_minor": 2
}
